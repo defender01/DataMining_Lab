{
 "cells": [
  {
   "cell_type": "markdown",
   "metadata": {
    "id": "61CxSPpSoIjm"
   },
   "source": [
    "##Mounting drive"
   ]
  },
  {
   "cell_type": "code",
   "execution_count": null,
   "metadata": {
    "colab": {
     "base_uri": "https://localhost:8080/"
    },
    "executionInfo": {
     "elapsed": 113571,
     "status": "ok",
     "timestamp": 1611898626347,
     "user": {
      "displayName": "Rahat Rizvi Rahman",
      "photoUrl": "",
      "userId": "02144840675019810486"
     },
     "user_tz": -360
    },
    "id": "67qUOy8hmg1g",
    "outputId": "f96a249d-279b-4fb4-eb10-7f8bd99cd3f6"
   },
   "outputs": [
    {
     "name": "stdout",
     "output_type": "stream",
     "text": [
      "Mounted at /content/drive\n"
     ]
    }
   ],
   "source": [
    "# from google.colab import drive\n",
    "# drive.mount('/content/drive')"
   ]
  },
  {
   "cell_type": "code",
   "execution_count": null,
   "metadata": {
    "colab": {
     "base_uri": "https://localhost:8080/"
    },
    "executionInfo": {
     "elapsed": 114368,
     "status": "ok",
     "timestamp": 1611898627547,
     "user": {
      "displayName": "Rahat Rizvi Rahman",
      "photoUrl": "",
      "userId": "02144840675019810486"
     },
     "user_tz": -360
    },
    "id": "VSI9XhZioM7T",
    "outputId": "8bc76b4f-84c3-402a-be52-eaa56d787936"
   },
   "outputs": [
    {
     "name": "stdout",
     "output_type": "stream",
     "text": [
      "/content/drive/My Drive/Colab Notebooks/Data_mining/Lab1/Notebooks\n",
      "apriori.ipynb  fp_Growth.ipynb\n"
     ]
    }
   ],
   "source": [
    "# %cd /content/drive/My\\ Drive/Colab Notebooks/Data_mining/Lab1/Notebooks\n",
    "# !ls"
   ]
  },
  {
   "cell_type": "markdown",
   "metadata": {
    "id": "-dP4QJB1JUWU"
   },
   "source": [
    "##Importing Libraries"
   ]
  },
  {
   "cell_type": "code",
   "execution_count": 10,
   "metadata": {
    "executionInfo": {
     "elapsed": 1000,
     "status": "ok",
     "timestamp": 1611900165775,
     "user": {
      "displayName": "Rahat Rizvi Rahman",
      "photoUrl": "",
      "userId": "02144840675019810486"
     },
     "user_tz": -360
    },
    "id": "wUgpW27EnTyT"
   },
   "outputs": [],
   "source": [
    "import numpy as np\n",
    "import matplotlib.pyplot as plt\n",
    "import pandas as pd\n",
    "import copy\n",
    "import math\n",
    "import csv\n",
    "import time\n",
    "import re\n",
    "import tracemalloc\n",
    "import matplotlib.pyplot as plt\n",
    "\n",
    "plt.rc('xtick',labelsize=15)\n",
    "plt.rc('ytick',labelsize=15)"
   ]
  },
  {
   "cell_type": "markdown",
   "metadata": {
    "id": "20-dsRTxnsoz"
   },
   "source": [
    "# Node class"
   ]
  },
  {
   "cell_type": "code",
   "execution_count": 11,
   "metadata": {
    "id": "zRBOsPMwnb_Q"
   },
   "outputs": [],
   "source": [
    "class Node:\n",
    "  def __init__(self, parent= None, val = None, remainingDepth = -1):\n",
    "    self.parent = parent\n",
    "    self.val = val\n",
    "    self.children = {}\n",
    "    self.supCnt = 0\n",
    "    self.remainingDepth = remainingDepth\n",
    "    if parent == None:\n",
    "      self.level = 0\n",
    "    else:\n",
    "      self.level = parent.level+1\n",
    "      parent.insertChild(self)\n",
    "\n",
    "  def insertChild(self, node):\n",
    "    self.children[node.val] = node\n",
    "\n",
    "  def deleteChild(self, node):\n",
    "    del self.children[node.val]\n",
    "  "
   ]
  },
  {
   "cell_type": "markdown",
   "metadata": {
    "id": "_BInG2ZkVGto"
   },
   "source": [
    "# Apriori implementation"
   ]
  },
  {
   "cell_type": "code",
   "execution_count": 12,
   "metadata": {
    "id": "1OhWBu5uyVCf"
   },
   "outputs": [],
   "source": [
    "bucket = np.array([])\n",
    "def printPathForLevel(node, tLevel):\n",
    "  global bucket\n",
    "  if node.level==tLevel:\n",
    "    print(bucket,' last element supCnt = ', node.supCnt)\n",
    "  else:\n",
    "    for child in node.children.values():\n",
    "      bucket = np.append(bucket,child.val)\n",
    "      # print('node.val=', node.val, ' child=',child.val,' tLevel=',tLevel )\n",
    "      printPathForLevel(node.children[child.val], tLevel)\n",
    "      bucket = bucket[:-1]\n",
    "\n",
    "def printFullTrie(node, tLevel):\n",
    "  print('Level:',tLevel,' printing full trie*************************')\n",
    "  for tl in range(tLevel):\n",
    "    printPathForLevel(node, tl+1)\n",
    "  print('Level:',tLevel,' end printing full trie*************************')\n",
    "    "
   ]
  },
  {
   "cell_type": "code",
   "execution_count": 13,
   "metadata": {
    "id": "EdCCm8_dgYYq"
   },
   "outputs": [],
   "source": [
    "def findInTrie(node, path, curInd, skipInd):\n",
    "  if node.remainingDepth + node.level< len(path)-1:\n",
    "    return False\n",
    "  if curInd>=len(path):\n",
    "    return True\n",
    "  if curInd == skipInd:\n",
    "    return findInTrie(node, path, curInd+1, skipInd)\n",
    "  chKeys = list(node.children)\n",
    "  for i in range(len(chKeys)):\n",
    "    child = node.children[chKeys[i]]\n",
    "    if child.val == path[curInd]:\n",
    "      return findInTrie(child, path, curInd+1, skipInd)\n",
    "  return False\n",
    "def isPruned(node, path):\n",
    "  # print('path=',path)\n",
    "  for i in range(len(path)-2):\n",
    "    if not findInTrie(node, path, 0 , i):\n",
    "      return True\n",
    "  return False"
   ]
  },
  {
   "cell_type": "code",
   "execution_count": 14,
   "metadata": {
    "id": "k-CP6IqL3kVN"
   },
   "outputs": [],
   "source": [
    "path = np.array([])\n",
    "def generateCandidates(node, remDepth, level):\n",
    "  global root\n",
    "  global path\n",
    "  totalCandidates = 0\n",
    "  mxRemaingDepth = -1\n",
    "  if node.remainingDepth < remDepth:\n",
    "    return 0\n",
    "  chKeys = list(node.children)\n",
    "  for i in range(len(chKeys)):\n",
    "    child = node.children[chKeys[i]]\n",
    "    path = np.append(path, child.val)\n",
    "    if child.level==level-1 and not child.children:\n",
    "      mxRemaingDepthForChild = -1\n",
    "      for j in range(i+1, len(chKeys)):\n",
    "        path = np.append(path, node.children[chKeys[j]].val)\n",
    "        if level<=2 or not isPruned(root, path):\n",
    "          newNode = Node(child, node.children[chKeys[j]].val, 0)\n",
    "          mxRemaingDepthForChild = max(mxRemaingDepthForChild, newNode.remainingDepth)\n",
    "          totalCandidates += 1\n",
    "        path = path[:-1]\n",
    "      child.remainingDepth = mxRemaingDepthForChild + 1\n",
    "    else:\n",
    "      totalCandidates += generateCandidates(child, remDepth-1, level)\n",
    "\n",
    "    path = path[:-1]\n",
    "    mxRemaingDepth = max(mxRemaingDepth, child.remainingDepth)\n",
    "  \n",
    "  node.remainingDepth = mxRemaingDepth + 1\n",
    "  return totalCandidates\n"
   ]
  },
  {
   "cell_type": "code",
   "execution_count": 15,
   "metadata": {
    "id": "_WxU_Ru3D5_c"
   },
   "outputs": [],
   "source": [
    "def updateSupportCnt(node, transaction, curInd, remLength):\n",
    "  if remLength < 0 or node.remainingDepth < remLength:\n",
    "    return\n",
    "\n",
    "  if remLength == 0 and len(node.children) == 0:\n",
    "    node.supCnt+=1\n",
    "    return\n",
    "  \n",
    "  allowedInd = range(curInd, len(transaction) - remLength + 1)\n",
    "  for ind in allowedInd:\n",
    "    if transaction[ind] in node.children:\n",
    "      updateSupportCnt(node.children[transaction[ind]], transaction, curInd+1, remLength-1)\n",
    "\n",
    "  # if curInd>len(transaction)-remLength or len(transaction)<level or node.remainingDepth<remLength:\n",
    "  #   return\n",
    "  # if node.level == level and not node.children:\n",
    "  #   node.supCnt += 1\n",
    "  #   return\n",
    "  # chKeys = list(node.children)\n",
    "  # for i in range(len(chKeys)):\n",
    "  #   child = node.children[chKeys[i]]\n",
    "  #   # print('child.val = {}, transaction[curInd] = {}'.format(type(child.val), type(transaction[curInd])))\n",
    "  #   if child.val == transaction[curInd]:\n",
    "  #     updateSupportCnt(child, transaction, curInd+1, remLength-1, level)\n",
    "  # updateSupportCnt(node, transaction, curInd+1, remLength, level)"
   ]
  },
  {
   "cell_type": "code",
   "execution_count": 16,
   "metadata": {
    "id": "gLohFbdvS_kO"
   },
   "outputs": [],
   "source": [
    "def removeNonFrequentItemsets(node, minSup, remDepth, level):\n",
    "  totalRemovedItem = 0\n",
    "  if node.remainingDepth < remDepth:\n",
    "    return 0\n",
    "  mxRemainingDepth = -1\n",
    "  chKeys = list(node.children)\n",
    "  for i in range(len(chKeys)):\n",
    "    child = node.children[chKeys[i]]\n",
    "    if child.level == level and not child.children:\n",
    "      if child.supCnt < minSup:\n",
    "        node.deleteChild(child)\n",
    "        totalRemovedItem +=1\n",
    "      else:\n",
    "        mxRemainingDepth = max(mxRemainingDepth, child.remainingDepth)\n",
    "    else:\n",
    "      totalRemovedItem += removeNonFrequentItemsets(child, minSup, remDepth-1, level)\n",
    "      mxRemainingDepth = max(mxRemainingDepth, child.remainingDepth)\n",
    "  node.remainingDepth = mxRemainingDepth+1\n",
    "  return totalRemovedItem"
   ]
  },
  {
   "cell_type": "code",
   "execution_count": 17,
   "metadata": {
    "id": "8FFq3lRwxPp2"
   },
   "outputs": [],
   "source": [
    "def sortTransactions(transactions):\n",
    "  for i in range(len(transactions)):\n",
    "    transactions[i] = np.unique(transactions[i])\n",
    "  return transactions"
   ]
  },
  {
   "cell_type": "code",
   "execution_count": 18,
   "metadata": {
    "id": "T5jHGb1OvmuQ"
   },
   "outputs": [],
   "source": [
    "root = Node()\n",
    "def runApriori(transactions, allItems, minSup):\n",
    "  global root, bucket, path\n",
    "  bucket = np.array([])\n",
    "  path = np.array([])\n",
    "  root = Node()\n",
    "  totalFrequentItem = 0\n",
    "  \n",
    "  transactions = sortTransactions(transactions)\n",
    "  items, freq = np.unique(allItems, return_counts=True)\n",
    "  # print(items, freq)\n",
    "  mxRemaingDepth=-1\n",
    "  # inserting each unique item in root of trie\n",
    "  for i in range(len(items)):\n",
    "    if freq[i]>=minSup:\n",
    "      node = Node(root, items[i],0)\n",
    "      node.supCnt = freq[i]\n",
    "      mxRemaingDepth= max(mxRemaingDepth, node.remainingDepth)\n",
    "      totalFrequentItem += 1\n",
    "  root.remainingDepth= max(root.remainingDepth, mxRemaingDepth+1)\n",
    "  # print('Level 1 frequent itemsets:')\n",
    "  # printFullTrie(root, 1)\n",
    "\n",
    "  level = 2\n",
    "\n",
    "  while True:\n",
    "    totalCandidates = generateCandidates(root, level-1, level)\n",
    "    # print('Level: ',level,' after candidates generated')\n",
    "    # printFullTrie(root, level)\n",
    "\n",
    "    # print('Level ',level, ' total candidate generated=', totalCandidates)\n",
    "\n",
    "    if totalCandidates==0:\n",
    "      break\n",
    "    \n",
    "    for transaction in transactions:\n",
    "      updateSupportCnt(root, transaction, 0, level)\n",
    "\n",
    "    # print('Level: ',level,' after updating support count')\n",
    "    # printFullTrie(root, level)\n",
    "\n",
    "    totalRemovedItem = removeNonFrequentItemsets(root, minSup, level, level)\n",
    "\n",
    "    if totalCandidates-totalRemovedItem==0:\n",
    "      break\n",
    "\n",
    "    totalFrequentItem += totalCandidates-totalRemovedItem\n",
    "\n",
    "    print('Level ',level, ' total Frequent itemsets generated=', totalCandidates-totalRemovedItem )\n",
    "\n",
    "    print('Level: ',level,' after removing non frequent itemsets')\n",
    "    printFullTrie(root, level)\n",
    "\n",
    "    level += 1\n",
    "\n",
    "  return totalFrequentItem"
   ]
  },
  {
   "cell_type": "markdown",
   "metadata": {
    "id": "6916kOVXNGGA"
   },
   "source": [
    "# Dataset Load"
   ]
  },
  {
   "cell_type": "code",
   "execution_count": 19,
   "metadata": {
    "id": "bMGVrWjhNLT9"
   },
   "outputs": [],
   "source": [
    "def loadDataset(datasetName, isNumeric = False, delimeter = ' '):\n",
    "  filepath = datasetName\n",
    "  # filepath = '/content/drive/MyDrive/Colab Notebooks/Data Mining Assignments/{}'.format(datasetName)\n",
    "  transactions = []\n",
    "  allItems = []\n",
    "  totalTransactions = 0\n",
    "  with open(filepath) as f:\n",
    "    for i, line in enumerate(f):\n",
    "      totalTransactions+=1\n",
    "      transaction = line.strip().split(delimeter) \n",
    "      for item in transaction:\n",
    "        allItems.append(item)\n",
    "      if isNumeric:\n",
    "        transactions.append(np.array(transaction, dtype = int))\n",
    "      else:\n",
    "        transactions.append(transaction)\n",
    "      \n",
    "  allItems = np.array(allItems, dtype=int) if isNumeric else allItems\n",
    "  # print(transactions)\n",
    "  # print(allItems)\n",
    "\n",
    "  return transactions, allItems, totalTransactions\n",
    "\n"
   ]
  },
  {
   "cell_type": "code",
   "execution_count": 20,
   "metadata": {
    "colab": {
     "base_uri": "https://localhost:8080/"
    },
    "executionInfo": {
     "elapsed": 114729,
     "status": "ok",
     "timestamp": 1611898627976,
     "user": {
      "displayName": "Rahat Rizvi Rahman",
      "photoUrl": "",
      "userId": "02144840675019810486"
     },
     "user_tz": -360
    },
    "id": "54tfLMBjvpoC",
    "outputId": "98e80eca-336a-4d3b-dccb-4d9648a2ce84"
   },
   "outputs": [
    {
     "ename": "FileNotFoundError",
     "evalue": "[Errno 2] No such file or directory: 'sampleDataset_1.csv'",
     "output_type": "error",
     "traceback": [
      "\u001b[1;31m---------------------------------------------------------------------------\u001b[0m",
      "\u001b[1;31mFileNotFoundError\u001b[0m                         Traceback (most recent call last)",
      "\u001b[1;32m<ipython-input-20-78fed8e819f3>\u001b[0m in \u001b[0;36m<module>\u001b[1;34m\u001b[0m\n\u001b[1;32m----> 1\u001b[1;33m \u001b[0mtransactions\u001b[0m\u001b[1;33m,\u001b[0m \u001b[0mallItems\u001b[0m\u001b[1;33m,\u001b[0m \u001b[0mtotalTransactions\u001b[0m \u001b[1;33m=\u001b[0m \u001b[0mloadDataset\u001b[0m\u001b[1;33m(\u001b[0m\u001b[1;34m'sampleDataset_1.csv'\u001b[0m\u001b[1;33m,\u001b[0m \u001b[1;32mFalse\u001b[0m\u001b[1;33m)\u001b[0m\u001b[1;33m\u001b[0m\u001b[1;33m\u001b[0m\u001b[0m\n\u001b[0m\u001b[0;32m      2\u001b[0m \u001b[1;31m# print(transactions)\u001b[0m\u001b[1;33m\u001b[0m\u001b[1;33m\u001b[0m\u001b[1;33m\u001b[0m\u001b[0m\n\u001b[0;32m      3\u001b[0m \u001b[1;31m# print(allItems)\u001b[0m\u001b[1;33m\u001b[0m\u001b[1;33m\u001b[0m\u001b[1;33m\u001b[0m\u001b[0m\n\u001b[0;32m      4\u001b[0m \u001b[0mtotalFrequentItem\u001b[0m \u001b[1;33m=\u001b[0m \u001b[0mrunApriori\u001b[0m\u001b[1;33m(\u001b[0m\u001b[0mtransactions\u001b[0m\u001b[1;33m=\u001b[0m\u001b[0mtransactions\u001b[0m\u001b[1;33m,\u001b[0m \u001b[0mallItems\u001b[0m\u001b[1;33m=\u001b[0m\u001b[0mallItems\u001b[0m\u001b[1;33m,\u001b[0m \u001b[0mminSup\u001b[0m\u001b[1;33m=\u001b[0m\u001b[1;36m3\u001b[0m\u001b[1;33m)\u001b[0m\u001b[1;33m\u001b[0m\u001b[1;33m\u001b[0m\u001b[0m\n\u001b[0;32m      5\u001b[0m \u001b[0mprint\u001b[0m\u001b[1;33m(\u001b[0m\u001b[1;34m'Total frequent itemsets genereted = '\u001b[0m\u001b[1;33m,\u001b[0m\u001b[0mtotalFrequentItem\u001b[0m\u001b[1;33m)\u001b[0m\u001b[1;33m\u001b[0m\u001b[1;33m\u001b[0m\u001b[0m\n",
      "\u001b[1;32m<ipython-input-19-27bcb8b5d662>\u001b[0m in \u001b[0;36mloadDataset\u001b[1;34m(datasetName, isNumeric, delimeter)\u001b[0m\n\u001b[0;32m      5\u001b[0m   \u001b[0mallItems\u001b[0m \u001b[1;33m=\u001b[0m \u001b[1;33m[\u001b[0m\u001b[1;33m]\u001b[0m\u001b[1;33m\u001b[0m\u001b[1;33m\u001b[0m\u001b[0m\n\u001b[0;32m      6\u001b[0m   \u001b[0mtotalTransactions\u001b[0m \u001b[1;33m=\u001b[0m \u001b[1;36m0\u001b[0m\u001b[1;33m\u001b[0m\u001b[1;33m\u001b[0m\u001b[0m\n\u001b[1;32m----> 7\u001b[1;33m   \u001b[1;32mwith\u001b[0m \u001b[0mopen\u001b[0m\u001b[1;33m(\u001b[0m\u001b[0mfilepath\u001b[0m\u001b[1;33m)\u001b[0m \u001b[1;32mas\u001b[0m \u001b[0mf\u001b[0m\u001b[1;33m:\u001b[0m\u001b[1;33m\u001b[0m\u001b[1;33m\u001b[0m\u001b[0m\n\u001b[0m\u001b[0;32m      8\u001b[0m     \u001b[1;32mfor\u001b[0m \u001b[0mi\u001b[0m\u001b[1;33m,\u001b[0m \u001b[0mline\u001b[0m \u001b[1;32min\u001b[0m \u001b[0menumerate\u001b[0m\u001b[1;33m(\u001b[0m\u001b[0mf\u001b[0m\u001b[1;33m)\u001b[0m\u001b[1;33m:\u001b[0m\u001b[1;33m\u001b[0m\u001b[1;33m\u001b[0m\u001b[0m\n\u001b[0;32m      9\u001b[0m       \u001b[0mtotalTransactions\u001b[0m\u001b[1;33m+=\u001b[0m\u001b[1;36m1\u001b[0m\u001b[1;33m\u001b[0m\u001b[1;33m\u001b[0m\u001b[0m\n",
      "\u001b[1;31mFileNotFoundError\u001b[0m: [Errno 2] No such file or directory: 'sampleDataset_1.csv'"
     ]
    }
   ],
   "source": [
    "transactions, allItems, totalTransactions = loadDataset('sampleDataset_1.csv', False)\n",
    "# print(transactions)\n",
    "# print(allItems)\n",
    "totalFrequentItem = runApriori(transactions=transactions, allItems=allItems, minSup=3)\n",
    "print('Total frequent itemsets genereted = ',totalFrequentItem)\n",
    "\n",
    "transactions, allItems, totalTransactions = loadDataset('sampleDataset_2.csv', False)\n",
    "# print(transactions)\n",
    "# print(allItems)\n",
    "totalFrequentItem = runApriori(transactions=transactions, allItems=allItems, minSup=2)\n",
    "print('Total frequent itemsets genereted = ',totalFrequentItem)"
   ]
  },
  {
   "cell_type": "code",
   "execution_count": null,
   "metadata": {},
   "outputs": [],
   "source": [
    "transactions, allItems, totalTransactions = loadDataset(datasetName= 'tvseries.csv', isNumeric= False, delimeter= ',')\n",
    "# print(transactions)\n",
    "# print(allItems)\n",
    "totalFrequentItem = runApriori(transactions=transactions, allItems=allItems, minSup=2)\n",
    "print('Total frequent itemsets genereted = ',totalFrequentItem)"
   ]
  },
  {
   "cell_type": "markdown",
   "metadata": {
    "id": "4Pjk-UR1zgLx"
   },
   "source": [
    "# Datasets"
   ]
  },
  {
   "cell_type": "code",
   "execution_count": 31,
   "metadata": {
    "executionInfo": {
     "elapsed": 1145,
     "status": "ok",
     "timestamp": 1611900633868,
     "user": {
      "displayName": "Rahat Rizvi Rahman",
      "photoUrl": "",
      "userId": "02144840675019810486"
     },
     "user_tz": -360
    },
    "id": "qCYvZczDwsWg"
   },
   "outputs": [],
   "source": [
    "def printAndSave(datasetName,timeCllection, memoryCllection, minSupCnts):\n",
    "  timeStr = ''\n",
    "  memoryStr=''\n",
    "  minSupCntStr=''\n",
    "  for i in range(len(minSupCnts)):\n",
    "    if i==0:\n",
    "      minSupCntStr+='Method,'+str(minSupCnts[i])\n",
    "    elif i == len(minSupCnts)-1:\n",
    "      minSupCntStr+=','+str(minSupCnts[i])+'\\n'\n",
    "    else:\n",
    "      minSupCntStr+=','+str(minSupCnts[i])\n",
    "  \n",
    "  timeStr+=minSupCntStr\n",
    "  for i in range(len(timeCllection)):\n",
    "    if i==0:\n",
    "      timeStr+='Apriori,'+str(timeCllection[i])\n",
    "    elif i == len(timeCllection)-1:\n",
    "      timeStr+=','+str(timeCllection[i])+'\\n'\n",
    "    else:\n",
    "      timeStr+=','+str(timeCllection[i])\n",
    "\n",
    "  memoryStr+=minSupCntStr\n",
    "  for i in range(len(memoryCllection)):\n",
    "    if i==0:\n",
    "      memoryStr+='Apriori,'+str(memoryCllection[i]/ 10**6)\n",
    "    elif i == len(memoryCllection)-1:\n",
    "      memoryStr+=','+str(memoryCllection[i]/ 10**6)+'\\n'\n",
    "    else:\n",
    "      memoryStr+=','+str(memoryCllection[i]/ 10**6)\n",
    "\n",
    "  print('timeString: ',timeStr)\n",
    "  print('memoryString: ',memoryStr)\n",
    "  filepath = datasetName+'.csv'\n",
    "  with open(filepath,'w') as f:\n",
    "    f.write(timeStr)\n",
    "  filepath = datasetName+'.csv'\n",
    "  with open(filepath,'w') as f:\n",
    "    f.write(memoryStr)"
   ]
  },
  {
   "cell_type": "markdown",
   "metadata": {
    "id": "FhbvFFUtzk3O"
   },
   "source": [
    "## Chess"
   ]
  },
  {
   "cell_type": "code",
   "execution_count": null,
   "metadata": {
    "colab": {
     "base_uri": "https://localhost:8080/"
    },
    "executionInfo": {
     "elapsed": 42192,
     "status": "ok",
     "timestamp": 1611899268728,
     "user": {
      "displayName": "Rahat Rizvi Rahman",
      "photoUrl": "",
      "userId": "02144840675019810486"
     },
     "user_tz": -360
    },
    "id": "ELkdYYLNwr2g",
    "outputId": "cff59f3e-acf4-4e05-dc84-a9a2d09a937d"
   },
   "outputs": [
    {
     "name": "stdout",
     "output_type": "stream",
     "text": [
      "[3037. 2917. 2797. 2677. 2557.]\n",
      "Total frequent itemsets genereted =  77\n",
      "4.0084168910980225\n",
      "Current memory usage is 0.304074MB; Peak was 1.439784MB\n",
      "Total frequent itemsets genereted =  389\n",
      "18.200729370117188\n",
      "Current memory usage is 0.43079MB; Peak was 1.439119MB\n",
      "Total frequent itemsets genereted =  1386\n",
      "61.90696930885315\n",
      "Current memory usage is 0.917038MB; Peak was 1.441442MB\n",
      "Total frequent itemsets genereted =  3674\n",
      "169.4127790927887\n",
      "Current memory usage is 2.028234MB; Peak was 2.029831MB\n",
      "Total frequent itemsets genereted =  8227\n",
      "386.9397521018982\n",
      "Current memory usage is 4.20955MB; Peak was 4.210783MB\n"
     ]
    }
   ],
   "source": [
    "timeCllection1= []\n",
    "memoryCllection1= []\n",
    "transactions, allItems, totalTransactions = loadDataset('chess.dat', True)\n",
    "\n",
    "minRelativeSupCnts = np.linspace(0.95, 0.8, 5)\n",
    "# minRelativeSupCnts = np.linspace(0.95, 0.9, 5)\n",
    "minSupCnts = np.array([np.ceil(val * totalTransactions) for val in minRelativeSupCnts])\n",
    "print(minSupCnts)\n",
    "\n",
    "for minSupCnt in minSupCnts:\n",
    "\n",
    "  tracemalloc.start()  \n",
    "  start = time.time()\n",
    "\n",
    "  totalFrequentItem = runApriori(transactions=transactions, allItems=allItems, minSup=minSupCnt)\n",
    "  print('Total frequent itemsets genereted = ',totalFrequentItem)\n",
    "\n",
    "  end = time.time()\n",
    "  timeCllection1.append(end-start)\n",
    "  print(end-start)\n",
    "\n",
    "  current, peak = tracemalloc.get_traced_memory()\n",
    "  memoryCllection1.append(peak)\n",
    "  print(f\"Current memory usage is {current / 10**6}MB; Peak was {peak / 10**6}MB\")\n",
    "  tracemalloc.stop()"
   ]
  },
  {
   "cell_type": "code",
   "execution_count": 40,
   "metadata": {
    "executionInfo": {
     "elapsed": 1010,
     "status": "ok",
     "timestamp": 1611900806002,
     "user": {
      "displayName": "Rahat Rizvi Rahman",
      "photoUrl": "",
      "userId": "02144840675019810486"
     },
     "user_tz": -360
    },
    "id": "-7dwy_cdPs8P"
   },
   "outputs": [],
   "source": [
    "# printAndSave('chess',timeCllection1, memoryCllection1, np.linspace(0.95, 0.8, 5))"
   ]
  },
  {
   "cell_type": "code",
   "execution_count": null,
   "metadata": {
    "id": "XyCF3EfQwtO1"
   },
   "outputs": [],
   "source": []
  },
  {
   "cell_type": "markdown",
   "metadata": {
    "id": "UkkPg3HxTSiq"
   },
   "source": [
    "## mushroom"
   ]
  },
  {
   "cell_type": "code",
   "execution_count": null,
   "metadata": {
    "colab": {
     "base_uri": "https://localhost:8080/"
    },
    "executionInfo": {
     "elapsed": 68028,
     "status": "ok",
     "timestamp": 1611899337172,
     "user": {
      "displayName": "Rahat Rizvi Rahman",
      "photoUrl": "",
      "userId": "02144840675019810486"
     },
     "user_tz": -360
    },
    "id": "MYUjNbSmTSis",
    "outputId": "5f8ff9e4-444b-487e-dd24-a5269a8c7101"
   },
   "outputs": [
    {
     "name": "stdout",
     "output_type": "stream",
     "text": [
      "[4875. 4469. 4062. 3656. 3250.]\n",
      "Total frequent itemsets genereted =  51\n",
      "4.099918365478516\n",
      "Current memory usage is 0.686164MB; Peak was 2.519727MB\n",
      "Total frequent itemsets genereted =  99\n",
      "6.8566694259643555\n",
      "Current memory usage is 0.703477MB; Peak was 2.52205MB\n",
      "Total frequent itemsets genereted =  153\n",
      "9.55532431602478\n",
      "Current memory usage is 0.710216MB; Peak was 2.519359MB\n",
      "Total frequent itemsets genereted =  329\n",
      "19.03514313697815\n",
      "Current memory usage is 0.816473MB; Peak was 2.521994MB\n",
      "Total frequent itemsets genereted =  565\n",
      "28.016829013824463\n",
      "Current memory usage is 0.930254MB; Peak was 2.521994MB\n"
     ]
    }
   ],
   "source": [
    "timeCllection2= []\n",
    "memoryCllection2= []\n",
    "transactions, allItems, totalTransactions = loadDataset('mushroom.dat', True)\n",
    "\n",
    "minRelativeSupCnts = np.linspace(0.60, 0.40, 5)\n",
    "minSupCnts = np.array([np.ceil(val * totalTransactions) for val in minRelativeSupCnts])\n",
    "print(minSupCnts)\n",
    "\n",
    "for minSupCnt in minSupCnts:\n",
    "\n",
    "  tracemalloc.start()  \n",
    "  start = time.time()\n",
    "\n",
    "  totalFrequentItem = runApriori(transactions=transactions, allItems=allItems, minSup=minSupCnt)\n",
    "  print('Total frequent itemsets genereted = ',totalFrequentItem)\n",
    "\n",
    "  end = time.time()\n",
    "  timeCllection2.append(end-start)\n",
    "  print(end-start)\n",
    "\n",
    "  current, peak = tracemalloc.get_traced_memory()\n",
    "  memoryCllection2.append(peak)\n",
    "  print(f\"Current memory usage is {current / 10**6}MB; Peak was {peak / 10**6}MB\")\n",
    "  tracemalloc.stop()"
   ]
  },
  {
   "cell_type": "code",
   "execution_count": 39,
   "metadata": {
    "executionInfo": {
     "elapsed": 1053,
     "status": "ok",
     "timestamp": 1611900801885,
     "user": {
      "displayName": "Rahat Rizvi Rahman",
      "photoUrl": "",
      "userId": "02144840675019810486"
     },
     "user_tz": -360
    },
    "id": "N3FO-mZnTThp"
   },
   "outputs": [],
   "source": [
    "# printAndSave('mushroom',timeCllection2, memoryCllection2, np.linspace(0.60, 0.40, 5))"
   ]
  },
  {
   "cell_type": "markdown",
   "metadata": {
    "id": "UcP5cVeqTTz-"
   },
   "source": [
    "## retail"
   ]
  },
  {
   "cell_type": "code",
   "execution_count": 24,
   "metadata": {
    "colab": {
     "base_uri": "https://localhost:8080/"
    },
    "executionInfo": {
     "elapsed": 146792,
     "status": "ok",
     "timestamp": 1611899884036,
     "user": {
      "displayName": "Rahat Rizvi Rahman",
      "photoUrl": "",
      "userId": "02144840675019810486"
     },
     "user_tz": -360
    },
    "id": "vTTcY98GTTz_",
    "outputId": "2e794285-1dd0-4650-be92-4d84745f223c"
   },
   "outputs": [
    {
     "name": "stdout",
     "output_type": "stream",
     "text": [
      "[441. 397. 353. 309. 265.]\n",
      "Total frequent itemsets genereted =  580\n",
      "15.379613399505615\n",
      "Current memory usage is 62.589213MB; Peak was 116.650447MB\n",
      "Total frequent itemsets genereted =  703\n",
      "18.34506583213806\n",
      "Current memory usage is 8.868341MB; Peak was 25.799567MB\n",
      "Total frequent itemsets genereted =  831\n",
      "22.203083038330078\n",
      "Current memory usage is 9.31355MB; Peak was 31.763603MB\n",
      "Total frequent itemsets genereted =  1075\n",
      "32.9248263835907\n",
      "Current memory usage is 10.672957MB; Peak was 45.824339MB\n",
      "Total frequent itemsets genereted =  1393\n",
      "54.990610122680664\n",
      "Current memory usage is 12.993039MB; Peak was 72.123047MB\n"
     ]
    }
   ],
   "source": [
    "timeCllection3= []\n",
    "memoryCllection3= []\n",
    "transactions, allItems, totalTransactions = loadDataset('retail.dat', True)\n",
    "\n",
    "minRelativeSupCnts = np.linspace(0.005, 0.003, 5)\n",
    "# minRelativeSupCnts = np.linspace(0.95, 0.9, 5)\n",
    "minSupCnts = np.array([np.ceil(val * totalTransactions) for val in minRelativeSupCnts])\n",
    "print(minSupCnts)\n",
    "\n",
    "for minSupCnt in minSupCnts:\n",
    "\n",
    "  tracemalloc.start()  \n",
    "  start = time.time()\n",
    "\n",
    "  totalFrequentItem = runApriori(transactions=transactions, allItems=allItems, minSup=minSupCnt)\n",
    "  print('Total frequent itemsets genereted = ',totalFrequentItem)\n",
    "\n",
    "  end = time.time()\n",
    "  timeCllection3.append(end-start)\n",
    "  print(end-start)\n",
    "\n",
    "  current, peak = tracemalloc.get_traced_memory()\n",
    "  memoryCllection3.append(peak)\n",
    "  print(f\"Current memory usage is {current / 10**6}MB; Peak was {peak / 10**6}MB\")\n",
    "  tracemalloc.stop()"
   ]
  },
  {
   "cell_type": "code",
   "execution_count": 49,
   "metadata": {
    "colab": {
     "base_uri": "https://localhost:8080/"
    },
    "executionInfo": {
     "elapsed": 1122,
     "status": "ok",
     "timestamp": 1611901581406,
     "user": {
      "displayName": "Rahat Rizvi Rahman",
      "photoUrl": "",
      "userId": "02144840675019810486"
     },
     "user_tz": -360
    },
    "id": "kqywEZ1XTU3e",
    "outputId": "727b843d-bcf2-4d21-f398-c787a81e1016"
   },
   "outputs": [
    {
     "name": "stdout",
     "output_type": "stream",
     "text": [
      "timeString:  Method,0.005,0.0045000000000000005,0.004,0.0035,0.003\n",
      "Apriori,15.379613399505615,18.34506583213806,22.203083038330078,32.9248263835907,54.990610122680664\n",
      "\n",
      "memoryString:  Method,0.005,0.0045000000000000005,0.004,0.0035,0.003\n",
      "Apriori,116.650447,25.799567,31.763603,45.824339,72.123047\n",
      "\n"
     ]
    }
   ],
   "source": [
    "# printAndSave('retail',timeCllection3, memoryCllection3, np.linspace(0.005, 0.003, 5))"
   ]
  },
  {
   "cell_type": "markdown",
   "metadata": {
    "id": "pCnGDkMdTVCk"
   },
   "source": [
    "## T10I4D100K"
   ]
  },
  {
   "cell_type": "code",
   "execution_count": 26,
   "metadata": {
    "colab": {
     "base_uri": "https://localhost:8080/"
    },
    "executionInfo": {
     "elapsed": 166971,
     "status": "ok",
     "timestamp": 1611899909509,
     "user": {
      "displayName": "Rahat Rizvi Rahman",
      "photoUrl": "",
      "userId": "02144840675019810486"
     },
     "user_tz": -360
    },
    "id": "jY_GOHLwTVCk",
    "outputId": "b9747981-bad0-405f-a98a-3a98147170d4"
   },
   "outputs": [
    {
     "name": "stdout",
     "output_type": "stream",
     "text": [
      "[4000. 3501. 3000. 2500. 2000.]\n",
      "Total frequent itemsets genereted =  26\n",
      "3.127579927444458\n",
      "Current memory usage is 8.046608MB; Peak was 18.104482MB\n",
      "Total frequent itemsets genereted =  40\n",
      "3.549589157104492\n",
      "Current memory usage is 8.053568MB; Peak was 18.103442MB\n",
      "Total frequent itemsets genereted =  60\n",
      "4.22825288772583\n",
      "Current memory usage is 8.104887MB; Peak was 18.103442MB\n",
      "Total frequent itemsets genereted =  107\n",
      "6.104845285415649\n",
      "Current memory usage is 8.288721MB; Peak was 18.103514MB\n",
      "Total frequent itemsets genereted =  155\n",
      "7.758108377456665\n",
      "Current memory usage is 8.519561MB; Peak was 18.10417MB\n"
     ]
    }
   ],
   "source": [
    "timeCllection4= []\n",
    "memoryCllection4= []\n",
    "transactions, allItems, totalTransactions = loadDataset('T10I4D100K.dat', True)\n",
    "\n",
    "minRelativeSupCnts = np.linspace(0.04, 0.02, 5)\n",
    "minSupCnts = np.array([np.ceil(val * totalTransactions) for val in minRelativeSupCnts])\n",
    "print(minSupCnts)\n",
    "\n",
    "for minSupCnt in minSupCnts:\n",
    "\n",
    "  tracemalloc.start()  \n",
    "  start = time.time()\n",
    "\n",
    "  totalFrequentItem = runApriori(transactions=transactions, allItems=allItems, minSup=minSupCnt)\n",
    "  print('Total frequent itemsets genereted = ',totalFrequentItem)\n",
    "\n",
    "  end = time.time()\n",
    "  timeCllection4.append(end-start)\n",
    "  print(end-start)\n",
    "\n",
    "  current, peak = tracemalloc.get_traced_memory()\n",
    "  memoryCllection4.append(peak)\n",
    "  print(f\"Current memory usage is {current / 10**6}MB; Peak was {peak / 10**6}MB\")\n",
    "  tracemalloc.stop()"
   ]
  },
  {
   "cell_type": "code",
   "execution_count": 37,
   "metadata": {
    "executionInfo": {
     "elapsed": 1047,
     "status": "ok",
     "timestamp": 1611900792864,
     "user": {
      "displayName": "Rahat Rizvi Rahman",
      "photoUrl": "",
      "userId": "02144840675019810486"
     },
     "user_tz": -360
    },
    "id": "9fhLe2JMTWEP"
   },
   "outputs": [],
   "source": [
    "# printAndSave('T10I4D100K',timeCllection4, memoryCllection4, np.linspace(0.04, 0.02, 5))"
   ]
  },
  {
   "cell_type": "markdown",
   "metadata": {
    "id": "gHIxgUk3TWT4"
   },
   "source": [
    "## kosarak"
   ]
  },
  {
   "cell_type": "code",
   "execution_count": 28,
   "metadata": {
    "colab": {
     "base_uri": "https://localhost:8080/"
    },
    "executionInfo": {
     "elapsed": 416535,
     "status": "ok",
     "timestamp": 1611900162179,
     "user": {
      "displayName": "Rahat Rizvi Rahman",
      "photoUrl": "",
      "userId": "02144840675019810486"
     },
     "user_tz": -360
    },
    "id": "Mi21W-O9TWT5",
    "outputId": "f1d10af7-d8ae-420b-9747-e585fa982ba0"
   },
   "outputs": [
    {
     "name": "stdout",
     "output_type": "stream",
     "text": [
      "[148501. 123751.  99001.  74251.  49501.]\n",
      "Total frequent itemsets genereted =  7\n",
      "38.25386118888855\n",
      "Current memory usage is 89.377251MB; Peak was 169.560632MB\n",
      "Total frequent itemsets genereted =  9\n",
      "38.43591594696045\n",
      "Current memory usage is 89.248139MB; Peak was 169.431376MB\n",
      "Total frequent itemsets genereted =  9\n",
      "38.017595529556274\n",
      "Current memory usage is 89.247908MB; Peak was 169.431624MB\n",
      "Total frequent itemsets genereted =  16\n",
      "48.64606046676636\n",
      "Current memory usage is 89.253028MB; Peak was 169.431632MB\n",
      "Total frequent itemsets genereted =  33\n",
      "82.8538269996643\n",
      "Current memory usage is 89.264595MB; Peak was 169.430456MB\n"
     ]
    }
   ],
   "source": [
    "timeCllection5= []\n",
    "memoryCllection5= []\n",
    "transactions, allItems, totalTransactions = loadDataset('kosarak.dat', True)\n",
    "\n",
    "minRelativeSupCnts = np.linspace(0.15, 0.05, 5)\n",
    "# minRelativeSupCnts = np.linspace(0.95, 0.9, 5)\n",
    "minSupCnts = np.array([np.ceil(val * totalTransactions) for val in minRelativeSupCnts])\n",
    "print(minSupCnts)\n",
    "\n",
    "for minSupCnt in minSupCnts:\n",
    "\n",
    "  tracemalloc.start()  \n",
    "  start = time.time()\n",
    "\n",
    "  totalFrequentItem = runApriori(transactions=transactions, allItems=allItems, minSup=minSupCnt)\n",
    "  print('Total frequent itemsets genereted = ',totalFrequentItem)\n",
    "\n",
    "  end = time.time()\n",
    "  timeCllection5.append(end-start)\n",
    "  print(end-start)\n",
    "\n",
    "  current, peak = tracemalloc.get_traced_memory()\n",
    "  memoryCllection5.append(peak)\n",
    "  print(f\"Current memory usage is {current / 10**6}MB; Peak was {peak / 10**6}MB\")\n",
    "  tracemalloc.stop()"
   ]
  },
  {
   "cell_type": "code",
   "execution_count": 36,
   "metadata": {
    "executionInfo": {
     "elapsed": 1164,
     "status": "ok",
     "timestamp": 1611900788061,
     "user": {
      "displayName": "Rahat Rizvi Rahman",
      "photoUrl": "",
      "userId": "02144840675019810486"
     },
     "user_tz": -360
    },
    "id": "ON6-06I7UM3i"
   },
   "outputs": [],
   "source": [
    "# printAndSave('kosarak',timeCllection5, memoryCllection5, np.linspace(0.15, 0.05, 5))"
   ]
  },
  {
   "cell_type": "code",
   "execution_count": null,
   "metadata": {
    "id": "vYGjCR2hyVD5"
   },
   "outputs": [],
   "source": []
  }
 ],
 "metadata": {
  "colab": {
   "collapsed_sections": [],
   "name": "apriori.ipynb",
   "provenance": []
  },
  "kernelspec": {
   "display_name": "Python 3",
   "language": "python",
   "name": "python3"
  },
  "language_info": {
   "codemirror_mode": {
    "name": "ipython",
    "version": 3
   },
   "file_extension": ".py",
   "mimetype": "text/x-python",
   "name": "python",
   "nbconvert_exporter": "python",
   "pygments_lexer": "ipython3",
   "version": "3.8.5"
  }
 },
 "nbformat": 4,
 "nbformat_minor": 1
}
